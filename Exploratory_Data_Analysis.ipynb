{
 "cells": [
  {
   "cell_type": "markdown",
   "id": "8c17ae5f",
   "metadata": {},
   "source": [
    "## EDA (Exploratory Data Analysis)\n",
    "In this section our goal is to derive some key insights from the data that we will be continuing to clean, transform and manipulate for our data analysis. We would like to understand what causes churn and what factors are contributing to higher churn rates if any. Some questions we would like to answer are:\n",
    "1. Do customers who pay more lead to higher churn rates? (Numeric Features vs Churn)\n",
    "2. Do customers who have a lower tenure tend to have higher churn rates? (Numeric Features vs Churn)\n",
    "3. What categories are linked to higer churn rates? (Catergorical Features vs Churn)\n",
    "4. Are certain combanations especially risky? (Cross Feature Insights)"
   ]
  },
  {
   "cell_type": "code",
   "execution_count": null,
   "id": "4afdea21",
   "metadata": {},
   "outputs": [],
   "source": [
    "import pandas as pd\n",
    "import matplotlib\n",
    "\n",
    "data = pd.read_csv(\"WA_Fn-UseC_-Telco-Customer-Churn.csv\")"
   ]
  },
  {
   "cell_type": "markdown",
   "id": "f9622fd5",
   "metadata": {},
   "source": [
    "We want to begin with locating the relevant data that we will be working with. "
   ]
  },
  {
   "cell_type": "code",
   "execution_count": null,
   "id": "aa645600",
   "metadata": {},
   "outputs": [],
   "source": [
    "data.info()"
   ]
  },
  {
   "cell_type": "markdown",
   "id": "01c18579",
   "metadata": {},
   "source": [
    "When we run the code \"data.info()\" we recieve an output of some basic information from our data set. Taking a look at this we can say that some important insights are Tenure, Monthly Charges, Total Charges, Churn, Contract, Payment Method. Lets go ahead and create a data frame with this information. "
   ]
  },
  {
   "cell_type": "code",
   "execution_count": null,
   "id": "7afbfabc",
   "metadata": {},
   "outputs": [],
   "source": [
    "edaMetrics = data[[\"tenure\",\"MonthlyCharges\",\"TotalCharges\",\"Churn\",\"Contract\",\"PaymentMethod\"]]\n",
    "edaMetrics.head()"
   ]
  },
  {
   "cell_type": "markdown",
   "id": "6d922560",
   "metadata": {},
   "source": [
    "We are able to see that this information has now been organized into a data frame where we can visually see what we are doing. Lets begin by answering our first question. \n",
    "1. Do Customers who pay more tend to churn at a higher rate?\n",
    "\n",
    "We can accomplish this by using a groupby statement and using our churn column as our index and \"MonthlyCharges\" column as our values to calculate churn by amount charged per month. We can then see the average amount paid based off whether a customer churned or stayed. "
   ]
  },
  {
   "cell_type": "code",
   "execution_count": null,
   "id": "d07ddc53",
   "metadata": {},
   "outputs": [],
   "source": [
    "\"$\" + edaMetrics.groupby(\"Churn\")[\"MonthlyCharges\"].mean().round(1).astype(str)"
   ]
  },
  {
   "cell_type": "markdown",
   "id": "2d1a0c31",
   "metadata": {},
   "source": [
    "We are able to see that the average amount paid by customers who stayed was $64 and those who churned was $74 a month showing that these customers paid more on average. It is too risky to say that this was the sole cause of customers churning however it can be a cause so we should take this into account when conducting further churn analysis. "
   ]
  },
  {
   "cell_type": "markdown",
   "id": "5767fcde",
   "metadata": {},
   "source": [
    "We need to now examine our next question and revisit this calculation in further plotting and data analysis for churn. It is important to look at multiple angles to interpret the entire data set and give accurate reports. "
   ]
  },
  {
   "cell_type": "markdown",
   "id": "52c732f8",
   "metadata": {},
   "source": [
    "The next question we would like to answer is: \n",
    "1. Whether customers with lower tenure are more likely to churn? \n",
    "We can answer this by compairing lower tenure rates to higher tenure rates and seeing if lower tenure led to higher churn rates. "
   ]
  },
  {
   "cell_type": "code",
   "execution_count": null,
   "id": "47142fdb",
   "metadata": {},
   "outputs": [],
   "source": [
    "edaMetrics[\"tenure\"].describe()"
   ]
  },
  {
   "cell_type": "markdown",
   "id": "ab5f1fb6",
   "metadata": {},
   "source": [
    "A great way to determing what type of data that we are working with is by using the \".describe()\" method which gives us valuable insights toward the data we are working with. When we ran this command we are able to see various metrics that are being completed. One metric that immediatley speaks out to me is the max metric which depicts 72. This allows me to make the inference that tenure is most likely tracking months not days. However, it is imporant to note that while it is most likely months we should always attempt to ask the source as to what this data is measuring instead of guessing. The \".describe()\" method is used to gather insight, not give you a for sure answer. "
   ]
  },
  {
   "cell_type": "code",
   "execution_count": null,
   "id": "93a36dc9",
   "metadata": {},
   "outputs": [],
   "source": [
    "edaMetrics.groupby(\"Churn\")[\"tenure\"].mean().round(0).astype(str) + \" Months\""
   ]
  },
  {
   "cell_type": "markdown",
   "id": "bc1dcee1",
   "metadata": {},
   "source": [
    "We are able to see that the average tenure between customers that churned was 18 months or the equivalent of 1 year and half. This allows for us to understand that tenure may be playing a role in the churn rate for this customer database. We should continue along with our data analysis however, this is valuable information to consider as this may be a red flag indicator as to why customers are churning. "
   ]
  }
 ],
 "metadata": {
  "kernelspec": {
   "display_name": "base",
   "language": "python",
   "name": "python3"
  },
  "language_info": {
   "codemirror_mode": {
    "name": "ipython",
    "version": 3
   },
   "file_extension": ".py",
   "mimetype": "text/x-python",
   "name": "python",
   "nbconvert_exporter": "python",
   "pygments_lexer": "ipython3",
   "version": "3.12.7"
  }
 },
 "nbformat": 4,
 "nbformat_minor": 5
}
