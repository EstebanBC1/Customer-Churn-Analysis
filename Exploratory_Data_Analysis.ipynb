{
 "cells": [
  {
   "cell_type": "markdown",
   "id": "8c17ae5f",
   "metadata": {},
   "source": [
    "## EDA (Exploratory Data Analysis)\n",
    "In this section our goal is to derive some key insights from the data that we will be continuing to clean, transform and manipulate for our data analysis. We would like to understand what causes churn and what factors are contributing to higher churn rates if any. Some questions we would like to answer are:\n",
    "1. Do customers who pay more lead to higher churn rates? (Numeric Features vs Churn)\n",
    "2. Do customers who have a lower tenure tend to have higher churn rates? (Numeric Features vs Churn)\n",
    "3. What categories are linked to higer churn rates? (Catergorical Features vs Churn)\n",
    "4. Are certain combanations especially risky? (Cross Feature Insights)"
   ]
  },
  {
   "cell_type": "code",
   "execution_count": 60,
   "id": "4afdea21",
   "metadata": {},
   "outputs": [],
   "source": [
    "import pandas as pd\n",
    "import matplotlib\n",
    "\n",
    "data = pd.read_csv(\"WA_Fn-UseC_-Telco-Customer-Churn.csv\")"
   ]
  },
  {
   "cell_type": "markdown",
   "id": "f9622fd5",
   "metadata": {},
   "source": [
    "We want to begin with locating the relevant data that we will be working with. "
   ]
  },
  {
   "cell_type": "code",
   "execution_count": 61,
   "id": "aa645600",
   "metadata": {},
   "outputs": [
    {
     "name": "stdout",
     "output_type": "stream",
     "text": [
      "<class 'pandas.core.frame.DataFrame'>\n",
      "RangeIndex: 7043 entries, 0 to 7042\n",
      "Data columns (total 21 columns):\n",
      " #   Column            Non-Null Count  Dtype  \n",
      "---  ------            --------------  -----  \n",
      " 0   customerID        7043 non-null   object \n",
      " 1   gender            7043 non-null   object \n",
      " 2   SeniorCitizen     7043 non-null   int64  \n",
      " 3   Partner           7043 non-null   object \n",
      " 4   Dependents        7043 non-null   object \n",
      " 5   tenure            7043 non-null   int64  \n",
      " 6   PhoneService      7043 non-null   object \n",
      " 7   MultipleLines     7043 non-null   object \n",
      " 8   InternetService   7043 non-null   object \n",
      " 9   OnlineSecurity    7043 non-null   object \n",
      " 10  OnlineBackup      7043 non-null   object \n",
      " 11  DeviceProtection  7043 non-null   object \n",
      " 12  TechSupport       7043 non-null   object \n",
      " 13  StreamingTV       7043 non-null   object \n",
      " 14  StreamingMovies   7043 non-null   object \n",
      " 15  Contract          7043 non-null   object \n",
      " 16  PaperlessBilling  7043 non-null   object \n",
      " 17  PaymentMethod     7043 non-null   object \n",
      " 18  MonthlyCharges    7043 non-null   float64\n",
      " 19  TotalCharges      7043 non-null   object \n",
      " 20  Churn             7043 non-null   object \n",
      "dtypes: float64(1), int64(2), object(18)\n",
      "memory usage: 1.1+ MB\n"
     ]
    }
   ],
   "source": [
    "data.info()"
   ]
  },
  {
   "cell_type": "markdown",
   "id": "01c18579",
   "metadata": {},
   "source": [
    "When we run the code \"data.info()\" we recieve an output of some basic information from our data set. Taking a look at this we can say that some important insights are Tenure, Monthly Charges, Total Charges, Churn, Contract, Payment Method. Lets go ahead and create a data frame with this information. "
   ]
  },
  {
   "cell_type": "code",
   "execution_count": 62,
   "id": "7afbfabc",
   "metadata": {},
   "outputs": [
    {
     "data": {
      "text/html": [
       "<div>\n",
       "<style scoped>\n",
       "    .dataframe tbody tr th:only-of-type {\n",
       "        vertical-align: middle;\n",
       "    }\n",
       "\n",
       "    .dataframe tbody tr th {\n",
       "        vertical-align: top;\n",
       "    }\n",
       "\n",
       "    .dataframe thead th {\n",
       "        text-align: right;\n",
       "    }\n",
       "</style>\n",
       "<table border=\"1\" class=\"dataframe\">\n",
       "  <thead>\n",
       "    <tr style=\"text-align: right;\">\n",
       "      <th></th>\n",
       "      <th>tenure</th>\n",
       "      <th>MonthlyCharges</th>\n",
       "      <th>TotalCharges</th>\n",
       "      <th>Churn</th>\n",
       "      <th>Contract</th>\n",
       "      <th>PaymentMethod</th>\n",
       "    </tr>\n",
       "  </thead>\n",
       "  <tbody>\n",
       "    <tr>\n",
       "      <th>0</th>\n",
       "      <td>1</td>\n",
       "      <td>29.85</td>\n",
       "      <td>29.85</td>\n",
       "      <td>No</td>\n",
       "      <td>Month-to-month</td>\n",
       "      <td>Electronic check</td>\n",
       "    </tr>\n",
       "    <tr>\n",
       "      <th>1</th>\n",
       "      <td>34</td>\n",
       "      <td>56.95</td>\n",
       "      <td>1889.5</td>\n",
       "      <td>No</td>\n",
       "      <td>One year</td>\n",
       "      <td>Mailed check</td>\n",
       "    </tr>\n",
       "    <tr>\n",
       "      <th>2</th>\n",
       "      <td>2</td>\n",
       "      <td>53.85</td>\n",
       "      <td>108.15</td>\n",
       "      <td>Yes</td>\n",
       "      <td>Month-to-month</td>\n",
       "      <td>Mailed check</td>\n",
       "    </tr>\n",
       "    <tr>\n",
       "      <th>3</th>\n",
       "      <td>45</td>\n",
       "      <td>42.30</td>\n",
       "      <td>1840.75</td>\n",
       "      <td>No</td>\n",
       "      <td>One year</td>\n",
       "      <td>Bank transfer (automatic)</td>\n",
       "    </tr>\n",
       "    <tr>\n",
       "      <th>4</th>\n",
       "      <td>2</td>\n",
       "      <td>70.70</td>\n",
       "      <td>151.65</td>\n",
       "      <td>Yes</td>\n",
       "      <td>Month-to-month</td>\n",
       "      <td>Electronic check</td>\n",
       "    </tr>\n",
       "  </tbody>\n",
       "</table>\n",
       "</div>"
      ],
      "text/plain": [
       "   tenure  MonthlyCharges TotalCharges Churn        Contract  \\\n",
       "0       1           29.85        29.85    No  Month-to-month   \n",
       "1      34           56.95       1889.5    No        One year   \n",
       "2       2           53.85       108.15   Yes  Month-to-month   \n",
       "3      45           42.30      1840.75    No        One year   \n",
       "4       2           70.70       151.65   Yes  Month-to-month   \n",
       "\n",
       "               PaymentMethod  \n",
       "0           Electronic check  \n",
       "1               Mailed check  \n",
       "2               Mailed check  \n",
       "3  Bank transfer (automatic)  \n",
       "4           Electronic check  "
      ]
     },
     "execution_count": 62,
     "metadata": {},
     "output_type": "execute_result"
    }
   ],
   "source": [
    "edaMetrics = data[[\"tenure\",\"MonthlyCharges\",\"TotalCharges\",\"Churn\",\"Contract\",\"PaymentMethod\"]]\n",
    "edaMetrics.head()"
   ]
  },
  {
   "cell_type": "markdown",
   "id": "6d922560",
   "metadata": {},
   "source": [
    "We are able to see that this information has now been organized into a data frame where we can visually see what we are doing. Lets begin by answering our first question. \n",
    "1. Do Customers who pay more tend to churn at a higher rate?\n",
    "\n",
    "We can accomplish this by using a groupby statement and using our churn column as our index and \"MonthlyCharges\" column as our values to calculate churn by amount charged per month. We can then see the average amount paid based off whether a customer churned or stayed. "
   ]
  },
  {
   "cell_type": "code",
   "execution_count": 63,
   "id": "d07ddc53",
   "metadata": {},
   "outputs": [
    {
     "data": {
      "text/plain": [
       "Churn\n",
       "No     $61.3\n",
       "Yes    $74.4\n",
       "Name: MonthlyCharges, dtype: object"
      ]
     },
     "execution_count": 63,
     "metadata": {},
     "output_type": "execute_result"
    }
   ],
   "source": [
    "\"$\" + edaMetrics.groupby(\"Churn\")[\"MonthlyCharges\"].mean().round(1).astype(str)"
   ]
  },
  {
   "cell_type": "markdown",
   "id": "2d1a0c31",
   "metadata": {},
   "source": [
    "We are able to see that the average amount paid by customers who stayed was $64 and those who churned was $74 a month showing that these customers paid more on average. It is too risky to say that this was the sole cause of customers churning however it can be a cause so we should take this into account when conducting further churn analysis. "
   ]
  },
  {
   "cell_type": "markdown",
   "id": "5767fcde",
   "metadata": {},
   "source": [
    "We need to now examine our next question and revisit this calculation in further plotting and data analysis for churn. It is important to look at multiple angles to interpret the entire data set and give accurate reports. "
   ]
  }
 ],
 "metadata": {
  "kernelspec": {
   "display_name": "Python 3",
   "language": "python",
   "name": "python3"
  },
  "language_info": {
   "codemirror_mode": {
    "name": "ipython",
    "version": 3
   },
   "file_extension": ".py",
   "mimetype": "text/x-python",
   "name": "python",
   "nbconvert_exporter": "python",
   "pygments_lexer": "ipython3",
   "version": "3.9.10"
  }
 },
 "nbformat": 4,
 "nbformat_minor": 5
}
