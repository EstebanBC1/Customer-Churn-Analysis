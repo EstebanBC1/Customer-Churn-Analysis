{
 "cells": [
  {
   "cell_type": "markdown",
   "id": "8c17ae5f",
   "metadata": {},
   "source": [
    "## EDA (Exploratory Data Analysis)\n",
    "In this section our goal is to derive some key insights from the data that we will be continuing to clean, transform and manipulate for our data analysis. We would like to understand what causes churn and what factors are contributing to higher churn rates if any. Some questions we would like to answer are:\n",
    "1. Do customers who pay more lead to higher churn rates? (Numeric Features vs Churn)\n",
    "2. Do customers who have a lower tenure tend to have higher churn rates? (Numeric Features vs Churn)\n",
    "3. What categories are linked to higher churn rates? (categorical Features vs Churn)\n",
    "4. Are certain combinations especially risky? (Cross Feature Insights)"
   ]
  },
  {
   "cell_type": "code",
   "execution_count": 1125,
   "id": "4afdea21",
   "metadata": {},
   "outputs": [],
   "source": [
    "import pandas as pd\n",
    "import matplotlib.pyplot as plt\n",
    "\n",
    "data = pd.read_csv(\"WA_Fn-UseC_-Telco-Customer-Churn.csv\")"
   ]
  },
  {
   "cell_type": "markdown",
   "id": "f9622fd5",
   "metadata": {},
   "source": [
    "We want to begin with locating the relevant data that we will be working with. "
   ]
  },
  {
   "cell_type": "code",
   "execution_count": 1126,
   "id": "aa645600",
   "metadata": {},
   "outputs": [
    {
     "name": "stdout",
     "output_type": "stream",
     "text": [
      "<class 'pandas.core.frame.DataFrame'>\n",
      "RangeIndex: 7043 entries, 0 to 7042\n",
      "Data columns (total 21 columns):\n",
      " #   Column            Non-Null Count  Dtype  \n",
      "---  ------            --------------  -----  \n",
      " 0   customerID        7043 non-null   object \n",
      " 1   gender            7043 non-null   object \n",
      " 2   SeniorCitizen     7043 non-null   int64  \n",
      " 3   Partner           7043 non-null   object \n",
      " 4   Dependents        7043 non-null   object \n",
      " 5   tenure            7043 non-null   int64  \n",
      " 6   PhoneService      7043 non-null   object \n",
      " 7   MultipleLines     7043 non-null   object \n",
      " 8   InternetService   7043 non-null   object \n",
      " 9   OnlineSecurity    7043 non-null   object \n",
      " 10  OnlineBackup      7043 non-null   object \n",
      " 11  DeviceProtection  7043 non-null   object \n",
      " 12  TechSupport       7043 non-null   object \n",
      " 13  StreamingTV       7043 non-null   object \n",
      " 14  StreamingMovies   7043 non-null   object \n",
      " 15  Contract          7043 non-null   object \n",
      " 16  PaperlessBilling  7043 non-null   object \n",
      " 17  PaymentMethod     7043 non-null   object \n",
      " 18  MonthlyCharges    7043 non-null   float64\n",
      " 19  TotalCharges      7043 non-null   object \n",
      " 20  Churn             7043 non-null   object \n",
      "dtypes: float64(1), int64(2), object(18)\n",
      "memory usage: 1.1+ MB\n"
     ]
    }
   ],
   "source": [
    "data.info()"
   ]
  },
  {
   "cell_type": "markdown",
   "id": "01c18579",
   "metadata": {},
   "source": [
    "When we run the code \"data.info()\" we receive an output of some basic information from our data set. Taking a look at this we can say that some important insights are Tenure, Monthly Charges, Total Charges, Churn, Contract, Payment Method. Let's go ahead and create a data frame with this information. "
   ]
  },
  {
   "cell_type": "code",
   "execution_count": 1127,
   "id": "7afbfabc",
   "metadata": {},
   "outputs": [
    {
     "data": {
      "text/html": [
       "<div>\n",
       "<style scoped>\n",
       "    .dataframe tbody tr th:only-of-type {\n",
       "        vertical-align: middle;\n",
       "    }\n",
       "\n",
       "    .dataframe tbody tr th {\n",
       "        vertical-align: top;\n",
       "    }\n",
       "\n",
       "    .dataframe thead th {\n",
       "        text-align: right;\n",
       "    }\n",
       "</style>\n",
       "<table border=\"1\" class=\"dataframe\">\n",
       "  <thead>\n",
       "    <tr style=\"text-align: right;\">\n",
       "      <th></th>\n",
       "      <th>tenure</th>\n",
       "      <th>MonthlyCharges</th>\n",
       "      <th>TotalCharges</th>\n",
       "      <th>Churn</th>\n",
       "      <th>Contract</th>\n",
       "      <th>PaymentMethod</th>\n",
       "      <th>InternetService</th>\n",
       "    </tr>\n",
       "  </thead>\n",
       "  <tbody>\n",
       "    <tr>\n",
       "      <th>0</th>\n",
       "      <td>1</td>\n",
       "      <td>29.85</td>\n",
       "      <td>29.85</td>\n",
       "      <td>No</td>\n",
       "      <td>Month-to-month</td>\n",
       "      <td>Electronic check</td>\n",
       "      <td>DSL</td>\n",
       "    </tr>\n",
       "    <tr>\n",
       "      <th>1</th>\n",
       "      <td>34</td>\n",
       "      <td>56.95</td>\n",
       "      <td>1889.5</td>\n",
       "      <td>No</td>\n",
       "      <td>One year</td>\n",
       "      <td>Mailed check</td>\n",
       "      <td>DSL</td>\n",
       "    </tr>\n",
       "    <tr>\n",
       "      <th>2</th>\n",
       "      <td>2</td>\n",
       "      <td>53.85</td>\n",
       "      <td>108.15</td>\n",
       "      <td>Yes</td>\n",
       "      <td>Month-to-month</td>\n",
       "      <td>Mailed check</td>\n",
       "      <td>DSL</td>\n",
       "    </tr>\n",
       "    <tr>\n",
       "      <th>3</th>\n",
       "      <td>45</td>\n",
       "      <td>42.30</td>\n",
       "      <td>1840.75</td>\n",
       "      <td>No</td>\n",
       "      <td>One year</td>\n",
       "      <td>Bank transfer (automatic)</td>\n",
       "      <td>DSL</td>\n",
       "    </tr>\n",
       "    <tr>\n",
       "      <th>4</th>\n",
       "      <td>2</td>\n",
       "      <td>70.70</td>\n",
       "      <td>151.65</td>\n",
       "      <td>Yes</td>\n",
       "      <td>Month-to-month</td>\n",
       "      <td>Electronic check</td>\n",
       "      <td>Fiber optic</td>\n",
       "    </tr>\n",
       "  </tbody>\n",
       "</table>\n",
       "</div>"
      ],
      "text/plain": [
       "   tenure  MonthlyCharges TotalCharges Churn        Contract  \\\n",
       "0       1           29.85        29.85    No  Month-to-month   \n",
       "1      34           56.95       1889.5    No        One year   \n",
       "2       2           53.85       108.15   Yes  Month-to-month   \n",
       "3      45           42.30      1840.75    No        One year   \n",
       "4       2           70.70       151.65   Yes  Month-to-month   \n",
       "\n",
       "               PaymentMethod InternetService  \n",
       "0           Electronic check             DSL  \n",
       "1               Mailed check             DSL  \n",
       "2               Mailed check             DSL  \n",
       "3  Bank transfer (automatic)             DSL  \n",
       "4           Electronic check     Fiber optic  "
      ]
     },
     "execution_count": 1127,
     "metadata": {},
     "output_type": "execute_result"
    }
   ],
   "source": [
    "edaMetrics = data[[\"tenure\",\"MonthlyCharges\",\"TotalCharges\",\"Churn\",\"Contract\",\"PaymentMethod\", \"InternetService\"]]\n",
    "edaMetrics.head()"
   ]
  },
  {
   "cell_type": "markdown",
   "id": "6d922560",
   "metadata": {},
   "source": [
    "We are able to see that this information has now been organized into a data frame where we can visually see what we are doing. Let's begin by answering our first question. \n",
    "1. Do Customers who pay more tend to churn at a higher rate?\n",
    "\n",
    "We can accomplish this by using a groupby statement and using our churn column as our index and \"MonthlyCharges\" column as our values to calculate churn by amount charged per month. We can then see the average amount paid based off whether a customer churned or stayed. "
   ]
  },
  {
   "cell_type": "code",
   "execution_count": 1128,
   "id": "d07ddc53",
   "metadata": {},
   "outputs": [
    {
     "data": {
      "text/plain": [
       "Churn\n",
       "No     $61.3\n",
       "Yes    $74.4\n",
       "Name: MonthlyCharges, dtype: object"
      ]
     },
     "execution_count": 1128,
     "metadata": {},
     "output_type": "execute_result"
    }
   ],
   "source": [
    "\"$\" + edaMetrics.groupby(\"Churn\")[\"MonthlyCharges\"].mean().round(1).astype(str)"
   ]
  },
  {
   "cell_type": "markdown",
   "id": "2d1a0c31",
   "metadata": {},
   "source": [
    "We are able to see that the average amount paid by customers who stayed was $64 and those who churned was $74 a month showing that these customers paid more on average. It is too risky to say that this was the sole cause of customers churning however it can be a cause so we should take this into account when conducting further churn analysis. "
   ]
  },
  {
   "cell_type": "markdown",
   "id": "5767fcde",
   "metadata": {},
   "source": [
    "We need to now examine our next question and revisit this calculation in further plotting and data analysis for churn. It is important to look at multiple angles to interpret the entire data set and give accurate reports. "
   ]
  },
  {
   "cell_type": "markdown",
   "id": "52c732f8",
   "metadata": {},
   "source": [
    "The next question we would like to answer is: \n",
    "1. Whether customers with lower tenure are more likely to churn? \n",
    "We can answer this by comparing lower tenure rates to higher tenure rates and seeing if lower tenure led to higher churn rates. "
   ]
  },
  {
   "cell_type": "code",
   "execution_count": 1129,
   "id": "47142fdb",
   "metadata": {},
   "outputs": [
    {
     "data": {
      "text/plain": [
       "count    7043.000000\n",
       "mean       32.371149\n",
       "std        24.559481\n",
       "min         0.000000\n",
       "25%         9.000000\n",
       "50%        29.000000\n",
       "75%        55.000000\n",
       "max        72.000000\n",
       "Name: tenure, dtype: float64"
      ]
     },
     "execution_count": 1129,
     "metadata": {},
     "output_type": "execute_result"
    }
   ],
   "source": [
    "edaMetrics[\"tenure\"].describe()"
   ]
  },
  {
   "cell_type": "markdown",
   "id": "ab5f1fb6",
   "metadata": {},
   "source": [
    "A great way to determining what type of data that we are working with is by using the \".describe()\" method which gives us valuable insights toward the data we are working with. When we ran this command we are able to see various metrics that are being completed. One metric that immediately speaks out to me is the max metric which depicts 72. This allows me to make the inference that tenure is most likely tracking months not days. However, it is important to note that while it is most likely months we should always attempt to ask the source as to what this data is measuring instead of guessing. The \".describe()\" method is used to gather insight, not give you a for sure answer. "
   ]
  },
  {
   "cell_type": "code",
   "execution_count": 1130,
   "id": "93a36dc9",
   "metadata": {},
   "outputs": [
    {
     "data": {
      "text/plain": [
       "Churn\n",
       "No     38.0 Months\n",
       "Yes    18.0 Months\n",
       "Name: tenure, dtype: object"
      ]
     },
     "execution_count": 1130,
     "metadata": {},
     "output_type": "execute_result"
    }
   ],
   "source": [
    "edaMetrics.groupby(\"Churn\")[\"tenure\"].mean().round(0).astype(str) + \" Months\""
   ]
  },
  {
   "cell_type": "markdown",
   "id": "bc1dcee1",
   "metadata": {},
   "source": [
    "We are able to see that the average tenure between customers that churned was 18 months or the equivalent of 1 year and a half. This allows for us to understand that tenure may be playing a role in the churn rate for this customer database. We should continue along with our data analysis however, this is valuable information to consider as this may be a red flag indicator as to why customers are churning. "
   ]
  },
  {
   "cell_type": "code",
   "execution_count": 1131,
   "id": "a4ed8852",
   "metadata": {},
   "outputs": [
    {
     "data": {
      "text/plain": [
       "count               7043\n",
       "unique                 3\n",
       "top       Month-to-month\n",
       "freq                3875\n",
       "Name: Contract, dtype: object"
      ]
     },
     "execution_count": 1131,
     "metadata": {},
     "output_type": "execute_result"
    }
   ],
   "source": [
    "edaMetrics[\"Contract\"].describe()"
   ]
  },
  {
   "cell_type": "code",
   "execution_count": 1132,
   "id": "9142885b",
   "metadata": {},
   "outputs": [
    {
     "data": {
      "text/html": [
       "<div>\n",
       "<style scoped>\n",
       "    .dataframe tbody tr th:only-of-type {\n",
       "        vertical-align: middle;\n",
       "    }\n",
       "\n",
       "    .dataframe tbody tr th {\n",
       "        vertical-align: top;\n",
       "    }\n",
       "\n",
       "    .dataframe thead th {\n",
       "        text-align: right;\n",
       "    }\n",
       "</style>\n",
       "<table border=\"1\" class=\"dataframe\">\n",
       "  <thead>\n",
       "    <tr style=\"text-align: right;\">\n",
       "      <th></th>\n",
       "      <th>tenure</th>\n",
       "      <th>MonthlyCharges</th>\n",
       "      <th>TotalCharges</th>\n",
       "      <th>Churn</th>\n",
       "      <th>Contract</th>\n",
       "      <th>PaymentMethod</th>\n",
       "      <th>InternetService</th>\n",
       "    </tr>\n",
       "  </thead>\n",
       "  <tbody>\n",
       "    <tr>\n",
       "      <th>0</th>\n",
       "      <td>1</td>\n",
       "      <td>29.85</td>\n",
       "      <td>29.85</td>\n",
       "      <td>No</td>\n",
       "      <td>Month-to-month</td>\n",
       "      <td>Electronic check</td>\n",
       "      <td>DSL</td>\n",
       "    </tr>\n",
       "    <tr>\n",
       "      <th>1</th>\n",
       "      <td>34</td>\n",
       "      <td>56.95</td>\n",
       "      <td>1889.5</td>\n",
       "      <td>No</td>\n",
       "      <td>One year</td>\n",
       "      <td>Mailed check</td>\n",
       "      <td>DSL</td>\n",
       "    </tr>\n",
       "    <tr>\n",
       "      <th>2</th>\n",
       "      <td>2</td>\n",
       "      <td>53.85</td>\n",
       "      <td>108.15</td>\n",
       "      <td>Yes</td>\n",
       "      <td>Month-to-month</td>\n",
       "      <td>Mailed check</td>\n",
       "      <td>DSL</td>\n",
       "    </tr>\n",
       "    <tr>\n",
       "      <th>3</th>\n",
       "      <td>45</td>\n",
       "      <td>42.30</td>\n",
       "      <td>1840.75</td>\n",
       "      <td>No</td>\n",
       "      <td>One year</td>\n",
       "      <td>Bank transfer (automatic)</td>\n",
       "      <td>DSL</td>\n",
       "    </tr>\n",
       "    <tr>\n",
       "      <th>4</th>\n",
       "      <td>2</td>\n",
       "      <td>70.70</td>\n",
       "      <td>151.65</td>\n",
       "      <td>Yes</td>\n",
       "      <td>Month-to-month</td>\n",
       "      <td>Electronic check</td>\n",
       "      <td>Fiber optic</td>\n",
       "    </tr>\n",
       "    <tr>\n",
       "      <th>5</th>\n",
       "      <td>8</td>\n",
       "      <td>99.65</td>\n",
       "      <td>820.5</td>\n",
       "      <td>Yes</td>\n",
       "      <td>Month-to-month</td>\n",
       "      <td>Electronic check</td>\n",
       "      <td>Fiber optic</td>\n",
       "    </tr>\n",
       "    <tr>\n",
       "      <th>6</th>\n",
       "      <td>22</td>\n",
       "      <td>89.10</td>\n",
       "      <td>1949.4</td>\n",
       "      <td>No</td>\n",
       "      <td>Month-to-month</td>\n",
       "      <td>Credit card (automatic)</td>\n",
       "      <td>Fiber optic</td>\n",
       "    </tr>\n",
       "    <tr>\n",
       "      <th>7</th>\n",
       "      <td>10</td>\n",
       "      <td>29.75</td>\n",
       "      <td>301.9</td>\n",
       "      <td>No</td>\n",
       "      <td>Month-to-month</td>\n",
       "      <td>Mailed check</td>\n",
       "      <td>DSL</td>\n",
       "    </tr>\n",
       "    <tr>\n",
       "      <th>8</th>\n",
       "      <td>28</td>\n",
       "      <td>104.80</td>\n",
       "      <td>3046.05</td>\n",
       "      <td>Yes</td>\n",
       "      <td>Month-to-month</td>\n",
       "      <td>Electronic check</td>\n",
       "      <td>Fiber optic</td>\n",
       "    </tr>\n",
       "    <tr>\n",
       "      <th>9</th>\n",
       "      <td>62</td>\n",
       "      <td>56.15</td>\n",
       "      <td>3487.95</td>\n",
       "      <td>No</td>\n",
       "      <td>One year</td>\n",
       "      <td>Bank transfer (automatic)</td>\n",
       "      <td>DSL</td>\n",
       "    </tr>\n",
       "    <tr>\n",
       "      <th>10</th>\n",
       "      <td>13</td>\n",
       "      <td>49.95</td>\n",
       "      <td>587.45</td>\n",
       "      <td>No</td>\n",
       "      <td>Month-to-month</td>\n",
       "      <td>Mailed check</td>\n",
       "      <td>DSL</td>\n",
       "    </tr>\n",
       "    <tr>\n",
       "      <th>11</th>\n",
       "      <td>16</td>\n",
       "      <td>18.95</td>\n",
       "      <td>326.8</td>\n",
       "      <td>No</td>\n",
       "      <td>Two year</td>\n",
       "      <td>Credit card (automatic)</td>\n",
       "      <td>No</td>\n",
       "    </tr>\n",
       "    <tr>\n",
       "      <th>12</th>\n",
       "      <td>58</td>\n",
       "      <td>100.35</td>\n",
       "      <td>5681.1</td>\n",
       "      <td>No</td>\n",
       "      <td>One year</td>\n",
       "      <td>Credit card (automatic)</td>\n",
       "      <td>Fiber optic</td>\n",
       "    </tr>\n",
       "    <tr>\n",
       "      <th>13</th>\n",
       "      <td>49</td>\n",
       "      <td>103.70</td>\n",
       "      <td>5036.3</td>\n",
       "      <td>Yes</td>\n",
       "      <td>Month-to-month</td>\n",
       "      <td>Bank transfer (automatic)</td>\n",
       "      <td>Fiber optic</td>\n",
       "    </tr>\n",
       "    <tr>\n",
       "      <th>14</th>\n",
       "      <td>25</td>\n",
       "      <td>105.50</td>\n",
       "      <td>2686.05</td>\n",
       "      <td>No</td>\n",
       "      <td>Month-to-month</td>\n",
       "      <td>Electronic check</td>\n",
       "      <td>Fiber optic</td>\n",
       "    </tr>\n",
       "  </tbody>\n",
       "</table>\n",
       "</div>"
      ],
      "text/plain": [
       "    tenure  MonthlyCharges TotalCharges Churn        Contract  \\\n",
       "0        1           29.85        29.85    No  Month-to-month   \n",
       "1       34           56.95       1889.5    No        One year   \n",
       "2        2           53.85       108.15   Yes  Month-to-month   \n",
       "3       45           42.30      1840.75    No        One year   \n",
       "4        2           70.70       151.65   Yes  Month-to-month   \n",
       "5        8           99.65        820.5   Yes  Month-to-month   \n",
       "6       22           89.10       1949.4    No  Month-to-month   \n",
       "7       10           29.75        301.9    No  Month-to-month   \n",
       "8       28          104.80      3046.05   Yes  Month-to-month   \n",
       "9       62           56.15      3487.95    No        One year   \n",
       "10      13           49.95       587.45    No  Month-to-month   \n",
       "11      16           18.95        326.8    No        Two year   \n",
       "12      58          100.35       5681.1    No        One year   \n",
       "13      49          103.70       5036.3   Yes  Month-to-month   \n",
       "14      25          105.50      2686.05    No  Month-to-month   \n",
       "\n",
       "                PaymentMethod InternetService  \n",
       "0            Electronic check             DSL  \n",
       "1                Mailed check             DSL  \n",
       "2                Mailed check             DSL  \n",
       "3   Bank transfer (automatic)             DSL  \n",
       "4            Electronic check     Fiber optic  \n",
       "5            Electronic check     Fiber optic  \n",
       "6     Credit card (automatic)     Fiber optic  \n",
       "7                Mailed check             DSL  \n",
       "8            Electronic check     Fiber optic  \n",
       "9   Bank transfer (automatic)             DSL  \n",
       "10               Mailed check             DSL  \n",
       "11    Credit card (automatic)              No  \n",
       "12    Credit card (automatic)     Fiber optic  \n",
       "13  Bank transfer (automatic)     Fiber optic  \n",
       "14           Electronic check     Fiber optic  "
      ]
     },
     "execution_count": 1132,
     "metadata": {},
     "output_type": "execute_result"
    }
   ],
   "source": [
    "edaMetrics.head(15)"
   ]
  },
  {
   "cell_type": "markdown",
   "id": "03f05004",
   "metadata": {},
   "source": [
    "Using the \".describe()\" method gives some insight as to what information is being contained in the Contract Column. We can see that there are 3 distinct values found within the Contract column. I use the \".head()\" method to locate the 3 distinct types of values that are held within the Contract Column. I can now continue with my data analysis. My question to answer is **Does contract type have an effect on churn rate?** This will show how categorical data affects churn rate."
   ]
  },
  {
   "cell_type": "markdown",
   "id": "f6b44b7e",
   "metadata": {},
   "source": [
    "We want to find out if contract length is affecting churn rate so the first thing we should do is compare each contract type and its churn response. "
   ]
  },
  {
   "cell_type": "code",
   "execution_count": 1133,
   "id": "6a2c01f7",
   "metadata": {},
   "outputs": [
    {
     "data": {
      "text/html": [
       "<div>\n",
       "<style scoped>\n",
       "    .dataframe tbody tr th:only-of-type {\n",
       "        vertical-align: middle;\n",
       "    }\n",
       "\n",
       "    .dataframe tbody tr th {\n",
       "        vertical-align: top;\n",
       "    }\n",
       "\n",
       "    .dataframe thead th {\n",
       "        text-align: right;\n",
       "    }\n",
       "</style>\n",
       "<table border=\"1\" class=\"dataframe\">\n",
       "  <thead>\n",
       "    <tr style=\"text-align: right;\">\n",
       "      <th>Churn</th>\n",
       "      <th>No</th>\n",
       "      <th>Yes</th>\n",
       "    </tr>\n",
       "    <tr>\n",
       "      <th>Contract</th>\n",
       "      <th></th>\n",
       "      <th></th>\n",
       "    </tr>\n",
       "  </thead>\n",
       "  <tbody>\n",
       "    <tr>\n",
       "      <th>Month-to-month</th>\n",
       "      <td>57.0 %</td>\n",
       "      <td>43.0 %</td>\n",
       "    </tr>\n",
       "    <tr>\n",
       "      <th>One year</th>\n",
       "      <td>89.0 %</td>\n",
       "      <td>11.0 %</td>\n",
       "    </tr>\n",
       "    <tr>\n",
       "      <th>Two year</th>\n",
       "      <td>97.0 %</td>\n",
       "      <td>3.0 %</td>\n",
       "    </tr>\n",
       "  </tbody>\n",
       "</table>\n",
       "</div>"
      ],
      "text/plain": [
       "Churn               No     Yes\n",
       "Contract                      \n",
       "Month-to-month  57.0 %  43.0 %\n",
       "One year        89.0 %  11.0 %\n",
       "Two year        97.0 %   3.0 %"
      ]
     },
     "execution_count": 1133,
     "metadata": {},
     "output_type": "execute_result"
    }
   ],
   "source": [
    "pd.crosstab(edaMetrics[\"Contract\"], edaMetrics[\"Churn\"], normalize = \"index\").mul(100).round(0).astype(str)+ \" %\""
   ]
  },
  {
   "cell_type": "markdown",
   "id": "6aa021d2",
   "metadata": {},
   "source": [
    "I asked myself the question, **How can I compare two column categories where numerical columns are not being used but rather categorical data?** After researching how to best approach the problem I came accross the method \"pd.crosstab\" which essentially allows for proportions to take place which is great when working with categorical data. This function also allows for normalization. What this means is that we scale the numbers being on a 1% - 100% point scale rather then just comparing raw values which can be misleading when working with large datasets. Instead we allow for a proportion to take place. In this way we can see that out of all the month-to-month contract types 57% did not churn and 43% churned."
   ]
  },
  {
   "cell_type": "markdown",
   "id": "541b42d2",
   "metadata": {},
   "source": [
    "Now let's perform the same logic on the following categories:\n",
    "\n",
    "PaymentMethod\n",
    "\n",
    "Internet Service"
   ]
  },
  {
   "cell_type": "code",
   "execution_count": 1134,
   "id": "3520bae7",
   "metadata": {},
   "outputs": [
    {
     "data": {
      "text/html": [
       "<div>\n",
       "<style scoped>\n",
       "    .dataframe tbody tr th:only-of-type {\n",
       "        vertical-align: middle;\n",
       "    }\n",
       "\n",
       "    .dataframe tbody tr th {\n",
       "        vertical-align: top;\n",
       "    }\n",
       "\n",
       "    .dataframe thead th {\n",
       "        text-align: right;\n",
       "    }\n",
       "</style>\n",
       "<table border=\"1\" class=\"dataframe\">\n",
       "  <thead>\n",
       "    <tr style=\"text-align: right;\">\n",
       "      <th>Churn</th>\n",
       "      <th>No</th>\n",
       "      <th>Yes</th>\n",
       "    </tr>\n",
       "    <tr>\n",
       "      <th>PaymentMethod</th>\n",
       "      <th></th>\n",
       "      <th></th>\n",
       "    </tr>\n",
       "  </thead>\n",
       "  <tbody>\n",
       "    <tr>\n",
       "      <th>Bank transfer (automatic)</th>\n",
       "      <td>83.0 %</td>\n",
       "      <td>17.0 %</td>\n",
       "    </tr>\n",
       "    <tr>\n",
       "      <th>Credit card (automatic)</th>\n",
       "      <td>85.0 %</td>\n",
       "      <td>15.0 %</td>\n",
       "    </tr>\n",
       "    <tr>\n",
       "      <th>Electronic check</th>\n",
       "      <td>55.0 %</td>\n",
       "      <td>45.0 %</td>\n",
       "    </tr>\n",
       "    <tr>\n",
       "      <th>Mailed check</th>\n",
       "      <td>81.0 %</td>\n",
       "      <td>19.0 %</td>\n",
       "    </tr>\n",
       "  </tbody>\n",
       "</table>\n",
       "</div>"
      ],
      "text/plain": [
       "Churn                          No     Yes\n",
       "PaymentMethod                            \n",
       "Bank transfer (automatic)  83.0 %  17.0 %\n",
       "Credit card (automatic)    85.0 %  15.0 %\n",
       "Electronic check           55.0 %  45.0 %\n",
       "Mailed check               81.0 %  19.0 %"
      ]
     },
     "execution_count": 1134,
     "metadata": {},
     "output_type": "execute_result"
    }
   ],
   "source": [
    "pd.crosstab(edaMetrics[\"PaymentMethod\"], edaMetrics[\"Churn\"], normalize = \"index\").mul(100).round(0).astype(str) + \" %\""
   ]
  },
  {
   "cell_type": "markdown",
   "id": "b10c72c3",
   "metadata": {},
   "source": [
    "I chose to compare Payment Methods and Churn to better understand how different types of payment can potentially be affecting the churn rate. Are bank transfers more effective at keeping customers or are Electronic Checks. The question is vital to help us answer the question of how to keep more customers. "
   ]
  },
  {
   "cell_type": "markdown",
   "id": "a597fe2d",
   "metadata": {},
   "source": [
    "## What does pd.crosstab() Do? \n",
    "This allows for the cross tabulation of two different categories. For example it will build a table showing how two categorical variables relate to each other. In this scenario we are viewing how churn responses relate to payment methods. To break this down further we do the following steps: \n",
    "1. We first select each distinct payment method\n",
    "2. We then compare these results with their respective churn response\n",
    "3. We normalize this collected data to give us an accurate representation of churn rates in relation to payment method"
   ]
  },
  {
   "cell_type": "code",
   "execution_count": 1135,
   "id": "fba6d5ea",
   "metadata": {},
   "outputs": [
    {
     "data": {
      "text/html": [
       "<div>\n",
       "<style scoped>\n",
       "    .dataframe tbody tr th:only-of-type {\n",
       "        vertical-align: middle;\n",
       "    }\n",
       "\n",
       "    .dataframe tbody tr th {\n",
       "        vertical-align: top;\n",
       "    }\n",
       "\n",
       "    .dataframe thead th {\n",
       "        text-align: right;\n",
       "    }\n",
       "</style>\n",
       "<table border=\"1\" class=\"dataframe\">\n",
       "  <thead>\n",
       "    <tr style=\"text-align: right;\">\n",
       "      <th>Churn</th>\n",
       "      <th>No</th>\n",
       "      <th>Yes</th>\n",
       "    </tr>\n",
       "    <tr>\n",
       "      <th>InternetService</th>\n",
       "      <th></th>\n",
       "      <th></th>\n",
       "    </tr>\n",
       "  </thead>\n",
       "  <tbody>\n",
       "    <tr>\n",
       "      <th>DSL</th>\n",
       "      <td>81.0 %</td>\n",
       "      <td>19.0 %</td>\n",
       "    </tr>\n",
       "    <tr>\n",
       "      <th>Fiber optic</th>\n",
       "      <td>58.0 %</td>\n",
       "      <td>42.0 %</td>\n",
       "    </tr>\n",
       "    <tr>\n",
       "      <th>No</th>\n",
       "      <td>93.0 %</td>\n",
       "      <td>7.0 %</td>\n",
       "    </tr>\n",
       "  </tbody>\n",
       "</table>\n",
       "</div>"
      ],
      "text/plain": [
       "Churn                No     Yes\n",
       "InternetService                \n",
       "DSL              81.0 %  19.0 %\n",
       "Fiber optic      58.0 %  42.0 %\n",
       "No               93.0 %   7.0 %"
      ]
     },
     "execution_count": 1135,
     "metadata": {},
     "output_type": "execute_result"
    }
   ],
   "source": [
    "pd.crosstab(edaMetrics[\"InternetService\"], edaMetrics[\"Churn\"], normalize = \"index\").mul(100).round(0).astype(str) + \" %\""
   ]
  },
  {
   "cell_type": "markdown",
   "id": "dbac983a",
   "metadata": {},
   "source": [
    "I compare Internet Services vs Churn to see if the type of internet a customer holds affects their churn response. If a customer is paying for fiber optic internet services they must already have a high monthly payment. So this could be reflective of their commitment to another monthly payment. "
   ]
  },
  {
   "cell_type": "markdown",
   "id": "8218a6a9",
   "metadata": {},
   "source": [
    "This data is very insightful, and will allow us to make more accurate inferences as to what is causing customers to churn. As well as allow us to better understand how we can prevent it. Next we will tackle some visual interpretations to better analyze our data. "
   ]
  },
  {
   "cell_type": "code",
   "execution_count": 1136,
   "id": "eedd0161",
   "metadata": {},
   "outputs": [
    {
     "data": {
      "text/plain": [
       "Churn\n",
       "No     65.0 %\n",
       "Yes    35.0 %\n",
       "Name: proportion, dtype: object"
      ]
     },
     "execution_count": 1136,
     "metadata": {},
     "output_type": "execute_result"
    }
   ],
   "source": [
    "avgMonthly = edaMetrics[\"MonthlyCharges\"].mean().round(1)\n",
    "hiMonthly = edaMetrics[\"MonthlyCharges\"] > avgMonthly\n",
    "loMonthly = edaMetrics[\"MonthlyCharges\"] <= avgMonthly\n",
    "\n",
    "\n",
    "edaMetrics[hiMonthly][\"Churn\"].value_counts(normalize = True).mul(100).round(0).astype(str)+ \" %\""
   ]
  },
  {
   "cell_type": "markdown",
   "id": "58170176",
   "metadata": {},
   "source": [
    "Let's tackle this block of code piece by piece to further understand why we are approaching our problem this way. \n",
    "\n",
    "1. To start we first want to find the average monthly charge to determine an accurate baseline of the average monthly charge. \n",
    "2. We then label all respective data higher than the average as a high monthly rate\n",
    "3. Similarly we label all respective data lower than the average as a low monthly rate\n",
    "4. To compare this against churn rate we now use the command \".value_counts()\" as a method of counting each unique value in the data sets respective column\n",
    "5. An important step is normalizing this data which means that we will scale the numbers on a 1%-100% point scale. "
   ]
  },
  {
   "cell_type": "code",
   "execution_count": 1137,
   "id": "bbc6a9cd",
   "metadata": {},
   "outputs": [
    {
     "data": {
      "text/plain": [
       "Churn\n",
       "No     84.0 %\n",
       "Yes    16.0 %\n",
       "Name: proportion, dtype: object"
      ]
     },
     "execution_count": 1137,
     "metadata": {},
     "output_type": "execute_result"
    }
   ],
   "source": [
    "edaMetrics[loMonthly][\"Churn\"].value_counts(normalize = True).mul(100).round(0).astype(str)+ \" %\""
   ]
  },
  {
   "cell_type": "markdown",
   "id": "601933be",
   "metadata": {},
   "source": [
    "What we can infer from these two comparisons is that customers with a higher monthly charge are 19% more likely to churn!"
   ]
  },
  {
   "cell_type": "markdown",
   "id": "91957a76",
   "metadata": {},
   "source": [
    "## Graph Representation"
   ]
  },
  {
   "cell_type": "markdown",
   "id": "ea857211",
   "metadata": {},
   "source": [
    "Let's begin by seeing how monthly charges looks when put against Churn. \n",
    "\n",
    "What a box plot shows: \n",
    "1. The median line (Middle Value)\n",
    "2. The box (Spread of middle 50%)\n",
    "3. The Whiskers (min/max range)\n",
    "4. The Outliers (dots outside)"
   ]
  },
  {
   "cell_type": "code",
   "execution_count": 1138,
   "id": "2a7915ff",
   "metadata": {},
   "outputs": [
    {
     "data": {
      "image/png": "[encoded data removed]",
      "text/plain": [
       "<Figure size 640x480 with 1 Axes>"
      ]
     },
     "metadata": {},
     "output_type": "display_data"
    }
   ],
   "source": [
    "edaMetrics.boxplot(column = \"MonthlyCharges\", by = \"Churn\", grid = True, \n",
    "    medianprops={\"color\": \"red\", \"linewidth\": 2})\n",
    "plt.xlabel(\"Churn Response\")\n",
    "plt.ylabel(\"Monthly Charge Amount\")\n",
    "plt.show()"
   ]
  },
  {
   "cell_type": "markdown",
   "id": "84f32c5b",
   "metadata": {},
   "source": [
    "### What exactly are we showing in this box graph?\n",
    "We are showing the spread of monthly charges in relation to each customer’s churn response. This box plot helps us visualize how much customers are paying and whether that relates to their likelihood of leaving.\n",
    "\n",
    "From the graph, we can see that the median monthly charge for churned customers is between $70 and $80. Customers who churned and fall between the 50th and 75th percentile were generally paying above $80, while those between the 25th and 50th percentile were paying between $55 and $80.\n",
    "\n",
    "Overall, this box plot suggests that customers who churned tended to pay more per month than those who stayed, indicating that higher charges may be linked to higher churn rates."
   ]
  },
  {
   "cell_type": "code",
   "execution_count": 1139,
   "id": "a412551f",
   "metadata": {},
   "outputs": [],
   "source": [
    "# plt.hist(edaMetrics[\"MonthlyCharges\"], bins=20)\n",
    "# plt.title(\"Distribution of Monthly Charges\")\n",
    "# plt.xlabel(\"Monthly Charge ($)\")\n",
    "# plt.ylabel(\"Number of Customers\")\n",
    "# plt.show()"
   ]
  }
 ],
 "metadata": {
  "kernelspec": {
   "display_name": "base",
   "language": "python",
   "name": "python3"
  },
  "language_info": {
   "codemirror_mode": {
    "name": "ipython",
    "version": 3
   },
   "file_extension": ".py",
   "mimetype": "text/x-python",
   "name": "python",
   "nbconvert_exporter": "python",
   "pygments_lexer": "ipython3",
   "version": "3.12.7"
  }
 },
 "nbformat": 4,
 "nbformat_minor": 5
}
